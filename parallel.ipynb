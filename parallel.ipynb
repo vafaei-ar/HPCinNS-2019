{
 "cells": [
  {
   "cell_type": "code",
   "execution_count": 1,
   "metadata": {},
   "outputs": [
    {
     "name": "stdout",
     "output_type": "stream",
     "text": [
      "Number of processors:  4\n"
     ]
    }
   ],
   "source": [
    "import time \n",
    "import numpy as np\n",
    "from time import time\n",
    "import multiprocessing as mp\n",
    "print(\"Number of processors: \", mp.cpu_count())"
   ]
  },
  {
   "cell_type": "code",
   "execution_count": 42,
   "metadata": {},
   "outputs": [
    {
     "name": "stdout",
     "output_type": "stream",
     "text": [
      "[0, 1, 2, 3]\n"
     ]
    }
   ],
   "source": [
    "import multiprocessing\n",
    "\n",
    "output = mp.Queue()\n",
    "\n",
    "# define a example function\n",
    "def hold(nn, output):\n",
    "    import time \n",
    "    t0 = time.time()\n",
    "    while t0+10>time.time():\n",
    "        pass\n",
    "    output.put(nn)\n",
    "\n",
    "# Setup a list of processes that we want to run\n",
    "processes = [mp.Process(target=hold, args=(x, output)) for x in range(4)]\n",
    "\n",
    "# Run processes\n",
    "for p in processes:\n",
    "    p.start()\n",
    "\n",
    "# Exit the completed processes\n",
    "for p in processes:\n",
    "    p.join()\n",
    "\n",
    "# Get process results from the output queue\n",
    "results = [output.get() for p in processes]\n",
    "\n",
    "print(results)\n"
   ]
  },
  {
   "cell_type": "code",
   "execution_count": null,
   "metadata": {},
   "outputs": [],
   "source": []
  },
  {
   "cell_type": "code",
   "execution_count": null,
   "metadata": {},
   "outputs": [],
   "source": []
  },
  {
   "cell_type": "code",
   "execution_count": 27,
   "metadata": {},
   "outputs": [
    {
     "name": "stderr",
     "output_type": "stream",
     "text": [
      "[Parallel(n_jobs=4)]: Using backend ThreadingBackend with 4 concurrent workers.\n"
     ]
    },
    {
     "name": "stdout",
     "output_type": "stream",
     "text": [
      "Function receives the arguments as a list: (1, 1)\n",
      "Function receives the arguments as a list: (1, 2)\n",
      "Function receives the arguments as a list: (1, 3)\n",
      "Function receives the arguments as a list: (1, 4)\n",
      "1_1\n",
      "1_2\n",
      "1_3\n",
      "1_4\n",
      "['1_1', '1_2', '1_3', '1_4']\n"
     ]
    },
    {
     "name": "stderr",
     "output_type": "stream",
     "text": [
      "[Parallel(n_jobs=4)]: Done   2 out of   4 | elapsed:   10.0s remaining:   10.0s\n",
      "[Parallel(n_jobs=4)]: Done   4 out of   4 | elapsed:   10.0s finished\n"
     ]
    }
   ],
   "source": [
    "import time \n",
    "from joblib import Parallel, delayed \n",
    "# A function that can be called to do work:\n",
    "def work(arg):    \n",
    "    print(\"Function receives the arguments as a list:\", arg)\n",
    "    # Split the list to individual variables:\n",
    "    i, j = arg    \n",
    "    # All this work function does is wait 1 second...\n",
    "#     time.sleep(1)  \n",
    "    t0 = time.time()\n",
    "    while t0+10>time.time():\n",
    "        pass\n",
    "    # ... and prints a string containing the inputs:\n",
    "    print(\"%s_%s\" % (i, j))\n",
    "    return \"%s_%s\" % (i, j)\n",
    "# List of arguments to pass to work():\n",
    "arg_instances = [(1, 1), (1, 2), (1, 3), (1, 4)]\n",
    "# Anything returned by work() can be stored:\n",
    "results = Parallel(n_jobs=4, verbose=1, backend=\"threading\")(map(delayed(work), arg_instances))\n",
    "print(results)"
   ]
  },
  {
   "cell_type": "code",
   "execution_count": null,
   "metadata": {},
   "outputs": [],
   "source": []
  },
  {
   "cell_type": "code",
   "execution_count": null,
   "metadata": {},
   "outputs": [],
   "source": []
  },
  {
   "cell_type": "code",
   "execution_count": null,
   "metadata": {},
   "outputs": [],
   "source": []
  },
  {
   "cell_type": "code",
   "execution_count": null,
   "metadata": {},
   "outputs": [],
   "source": []
  },
  {
   "cell_type": "code",
   "execution_count": null,
   "metadata": {},
   "outputs": [],
   "source": []
  },
  {
   "cell_type": "code",
   "execution_count": null,
   "metadata": {},
   "outputs": [],
   "source": []
  }
 ],
 "metadata": {
  "kernelspec": {
   "display_name": "Python 3",
   "language": "python",
   "name": "python3"
  },
  "language_info": {
   "codemirror_mode": {
    "name": "ipython",
    "version": 3
   },
   "file_extension": ".py",
   "mimetype": "text/x-python",
   "name": "python",
   "nbconvert_exporter": "python",
   "pygments_lexer": "ipython3",
   "version": "3.6.6"
  }
 },
 "nbformat": 4,
 "nbformat_minor": 2
}
